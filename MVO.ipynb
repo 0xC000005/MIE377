{
 "cells": [
  {
   "cell_type": "code",
   "id": "initial_id",
   "metadata": {
    "collapsed": true,
    "ExecuteTime": {
     "end_time": "2024-08-06T02:41:50.190798Z",
     "start_time": "2024-08-06T02:41:50.188456Z"
    }
   },
   "source": [
    "import yfinance as yf\n",
    "import pandas as pd\n",
    "from pypfopt import EfficientFrontier\n",
    "from pypfopt.expected_returns import mean_historical_return, ema_historical_return\n",
    "from pypfopt.risk_models import CovarianceShrinkage\n",
    "from pypfopt import objective_functions\n",
    "from pypfopt.discrete_allocation import DiscreteAllocation, get_latest_prices"
   ],
   "outputs": [],
   "execution_count": 19
  },
  {
   "metadata": {
    "ExecuteTime": {
     "end_time": "2024-08-06T02:41:50.769705Z",
     "start_time": "2024-08-06T02:41:50.192510Z"
    }
   },
   "cell_type": "code",
   "source": [
    "# Define the tickers and date range\n",
    "# tickers = [\"CGL.TO\", \"XUS.TO\", \"XGB.TO\", \"RY.TO\", \"WMT.NE\", \"JNJ.NE\", \"APLY.NE\", \"VISA.NE\", \"TSLA.NE\", \"BRK.NE\"]  \n",
    "tickers = [\"CGL.TO\", \"XUS.TO\", \"XGB.TO\", \"RY.TO\", \"WMT\", \"JNJ\", \"AAPL\", \"V\", \"TSLA\", \"BRK-B\"]  \n",
    "start_date = \"2019-01-01\"\n",
    "end_date = \"2024-08-04\"  # Today's date\n",
    "\n",
    "# Fetch data from Yahoo Finance\n",
    "data = yf.download(tickers, start=start_date, end=end_date)"
   ],
   "id": "dd445e8a3a599b12",
   "outputs": [
    {
     "name": "stderr",
     "output_type": "stream",
     "text": [
      "[*********************100%%**********************]  10 of 10 completed\n"
     ]
    }
   ],
   "execution_count": 20
  },
  {
   "metadata": {
    "ExecuteTime": {
     "end_time": "2024-08-06T02:41:50.780775Z",
     "start_time": "2024-08-06T02:41:50.770805Z"
    }
   },
   "cell_type": "code",
   "source": [
    "# Extract the 'Close' prices\n",
    "prices = data['Close']\n",
    "\n",
    "# Ensure the index is in the correct format\n",
    "prices.index = pd.to_datetime(prices.index)\n",
    "\n",
    "# Drop any missing values\n",
    "prices = prices.dropna(axis=0)\n",
    "\n",
    "# Display the first few rows of the data\n",
    "prices"
   ],
   "id": "ffd2e3a02610ed63",
   "outputs": [
    {
     "data": {
      "text/plain": [
       "Ticker            AAPL       BRK-B  CGL.TO         JNJ       RY.TO  \\\n",
       "Date                                                                 \n",
       "2019-01-02   39.480000  202.800003   10.93  127.750000   93.620003   \n",
       "2019-01-03   35.547501  191.660004   11.03  125.720001   92.570000   \n",
       "2019-01-04   37.064999  195.199997   10.99  127.830002   94.139999   \n",
       "2019-01-07   36.982498  196.910004   11.00  127.010002   93.910004   \n",
       "2019-01-08   37.687500  196.309998   10.96  129.960007   93.739998   \n",
       "...                ...         ...     ...         ...         ...   \n",
       "2024-07-29  218.240005  438.309998   18.99  158.559998  152.690002   \n",
       "2024-07-30  218.800003  441.260010   19.16  161.330002  153.899994   \n",
       "2024-07-31  222.080002  438.500000   19.51  157.850006  154.279999   \n",
       "2024-08-01  218.360001  431.809998   19.42  160.759995  152.369995   \n",
       "2024-08-02  219.860001  428.359985   19.41  164.139999  148.960007   \n",
       "\n",
       "Ticker            TSLA           V        WMT     XGB.TO     XUS.TO  \n",
       "Date                                                                 \n",
       "2019-01-02   20.674667  132.919998  31.113333  21.309999  42.464931  \n",
       "2019-01-03   20.024000  128.130005  30.953333  21.459999  41.082165  \n",
       "2019-01-04   21.179333  133.649994  31.146667  21.350000  42.244488  \n",
       "2019-01-07   22.330667  136.059998  31.513332  21.330000  42.224449  \n",
       "2019-01-08   22.356667  136.800003  31.733334  21.309999  42.585171  \n",
       "...                ...         ...        ...        ...        ...  \n",
       "2024-07-29  232.100006  261.600006  69.620003  19.219999  93.839996  \n",
       "2024-07-30  222.619995  263.100006  69.190002  19.280001  93.349998  \n",
       "2024-07-31  232.070007  265.670013  68.639999  19.340000  94.550003  \n",
       "2024-08-01  216.860001  265.929993  69.790001  19.459999  93.639999  \n",
       "2024-08-02  207.669998  266.579987  68.459999  19.639999  91.809998  \n",
       "\n",
       "[1377 rows x 10 columns]"
      ],
      "text/html": [
       "<div>\n",
       "<style scoped>\n",
       "    .dataframe tbody tr th:only-of-type {\n",
       "        vertical-align: middle;\n",
       "    }\n",
       "\n",
       "    .dataframe tbody tr th {\n",
       "        vertical-align: top;\n",
       "    }\n",
       "\n",
       "    .dataframe thead th {\n",
       "        text-align: right;\n",
       "    }\n",
       "</style>\n",
       "<table border=\"1\" class=\"dataframe\">\n",
       "  <thead>\n",
       "    <tr style=\"text-align: right;\">\n",
       "      <th>Ticker</th>\n",
       "      <th>AAPL</th>\n",
       "      <th>BRK-B</th>\n",
       "      <th>CGL.TO</th>\n",
       "      <th>JNJ</th>\n",
       "      <th>RY.TO</th>\n",
       "      <th>TSLA</th>\n",
       "      <th>V</th>\n",
       "      <th>WMT</th>\n",
       "      <th>XGB.TO</th>\n",
       "      <th>XUS.TO</th>\n",
       "    </tr>\n",
       "    <tr>\n",
       "      <th>Date</th>\n",
       "      <th></th>\n",
       "      <th></th>\n",
       "      <th></th>\n",
       "      <th></th>\n",
       "      <th></th>\n",
       "      <th></th>\n",
       "      <th></th>\n",
       "      <th></th>\n",
       "      <th></th>\n",
       "      <th></th>\n",
       "    </tr>\n",
       "  </thead>\n",
       "  <tbody>\n",
       "    <tr>\n",
       "      <th>2019-01-02</th>\n",
       "      <td>39.480000</td>\n",
       "      <td>202.800003</td>\n",
       "      <td>10.93</td>\n",
       "      <td>127.750000</td>\n",
       "      <td>93.620003</td>\n",
       "      <td>20.674667</td>\n",
       "      <td>132.919998</td>\n",
       "      <td>31.113333</td>\n",
       "      <td>21.309999</td>\n",
       "      <td>42.464931</td>\n",
       "    </tr>\n",
       "    <tr>\n",
       "      <th>2019-01-03</th>\n",
       "      <td>35.547501</td>\n",
       "      <td>191.660004</td>\n",
       "      <td>11.03</td>\n",
       "      <td>125.720001</td>\n",
       "      <td>92.570000</td>\n",
       "      <td>20.024000</td>\n",
       "      <td>128.130005</td>\n",
       "      <td>30.953333</td>\n",
       "      <td>21.459999</td>\n",
       "      <td>41.082165</td>\n",
       "    </tr>\n",
       "    <tr>\n",
       "      <th>2019-01-04</th>\n",
       "      <td>37.064999</td>\n",
       "      <td>195.199997</td>\n",
       "      <td>10.99</td>\n",
       "      <td>127.830002</td>\n",
       "      <td>94.139999</td>\n",
       "      <td>21.179333</td>\n",
       "      <td>133.649994</td>\n",
       "      <td>31.146667</td>\n",
       "      <td>21.350000</td>\n",
       "      <td>42.244488</td>\n",
       "    </tr>\n",
       "    <tr>\n",
       "      <th>2019-01-07</th>\n",
       "      <td>36.982498</td>\n",
       "      <td>196.910004</td>\n",
       "      <td>11.00</td>\n",
       "      <td>127.010002</td>\n",
       "      <td>93.910004</td>\n",
       "      <td>22.330667</td>\n",
       "      <td>136.059998</td>\n",
       "      <td>31.513332</td>\n",
       "      <td>21.330000</td>\n",
       "      <td>42.224449</td>\n",
       "    </tr>\n",
       "    <tr>\n",
       "      <th>2019-01-08</th>\n",
       "      <td>37.687500</td>\n",
       "      <td>196.309998</td>\n",
       "      <td>10.96</td>\n",
       "      <td>129.960007</td>\n",
       "      <td>93.739998</td>\n",
       "      <td>22.356667</td>\n",
       "      <td>136.800003</td>\n",
       "      <td>31.733334</td>\n",
       "      <td>21.309999</td>\n",
       "      <td>42.585171</td>\n",
       "    </tr>\n",
       "    <tr>\n",
       "      <th>...</th>\n",
       "      <td>...</td>\n",
       "      <td>...</td>\n",
       "      <td>...</td>\n",
       "      <td>...</td>\n",
       "      <td>...</td>\n",
       "      <td>...</td>\n",
       "      <td>...</td>\n",
       "      <td>...</td>\n",
       "      <td>...</td>\n",
       "      <td>...</td>\n",
       "    </tr>\n",
       "    <tr>\n",
       "      <th>2024-07-29</th>\n",
       "      <td>218.240005</td>\n",
       "      <td>438.309998</td>\n",
       "      <td>18.99</td>\n",
       "      <td>158.559998</td>\n",
       "      <td>152.690002</td>\n",
       "      <td>232.100006</td>\n",
       "      <td>261.600006</td>\n",
       "      <td>69.620003</td>\n",
       "      <td>19.219999</td>\n",
       "      <td>93.839996</td>\n",
       "    </tr>\n",
       "    <tr>\n",
       "      <th>2024-07-30</th>\n",
       "      <td>218.800003</td>\n",
       "      <td>441.260010</td>\n",
       "      <td>19.16</td>\n",
       "      <td>161.330002</td>\n",
       "      <td>153.899994</td>\n",
       "      <td>222.619995</td>\n",
       "      <td>263.100006</td>\n",
       "      <td>69.190002</td>\n",
       "      <td>19.280001</td>\n",
       "      <td>93.349998</td>\n",
       "    </tr>\n",
       "    <tr>\n",
       "      <th>2024-07-31</th>\n",
       "      <td>222.080002</td>\n",
       "      <td>438.500000</td>\n",
       "      <td>19.51</td>\n",
       "      <td>157.850006</td>\n",
       "      <td>154.279999</td>\n",
       "      <td>232.070007</td>\n",
       "      <td>265.670013</td>\n",
       "      <td>68.639999</td>\n",
       "      <td>19.340000</td>\n",
       "      <td>94.550003</td>\n",
       "    </tr>\n",
       "    <tr>\n",
       "      <th>2024-08-01</th>\n",
       "      <td>218.360001</td>\n",
       "      <td>431.809998</td>\n",
       "      <td>19.42</td>\n",
       "      <td>160.759995</td>\n",
       "      <td>152.369995</td>\n",
       "      <td>216.860001</td>\n",
       "      <td>265.929993</td>\n",
       "      <td>69.790001</td>\n",
       "      <td>19.459999</td>\n",
       "      <td>93.639999</td>\n",
       "    </tr>\n",
       "    <tr>\n",
       "      <th>2024-08-02</th>\n",
       "      <td>219.860001</td>\n",
       "      <td>428.359985</td>\n",
       "      <td>19.41</td>\n",
       "      <td>164.139999</td>\n",
       "      <td>148.960007</td>\n",
       "      <td>207.669998</td>\n",
       "      <td>266.579987</td>\n",
       "      <td>68.459999</td>\n",
       "      <td>19.639999</td>\n",
       "      <td>91.809998</td>\n",
       "    </tr>\n",
       "  </tbody>\n",
       "</table>\n",
       "<p>1377 rows × 10 columns</p>\n",
       "</div>"
      ]
     },
     "execution_count": 21,
     "metadata": {},
     "output_type": "execute_result"
    }
   ],
   "execution_count": 21
  },
  {
   "metadata": {
    "ExecuteTime": {
     "end_time": "2024-08-06T02:41:50.799738Z",
     "start_time": "2024-08-06T02:41:50.781553Z"
    }
   },
   "cell_type": "code",
   "source": [
    "# Calculate expected returns and sample covariance matrix\n",
    "# mu = mean_historical_return(prices)\n",
    "mu = ema_historical_return(prices, frequency=252)\n",
    "S = CovarianceShrinkage(prices).ledoit_wolf()"
   ],
   "id": "52ffa05693d4d17b",
   "outputs": [],
   "execution_count": 22
  },
  {
   "metadata": {
    "ExecuteTime": {
     "end_time": "2024-08-06T02:41:50.812Z",
     "start_time": "2024-08-06T02:41:50.801509Z"
    }
   },
   "cell_type": "code",
   "source": [
    "# Optimize the portfolio\n",
    "ef = EfficientFrontier(mu, S)\n",
    "\n",
    "# Add L2 regularization to the optimization problem\n",
    "ef.add_objective(objective_functions.L2_reg, gamma=0.1)\n",
    "\n",
    "weights = ef.max_sharpe()\n",
    "# weights = ef.min_volatility()\n",
    "\n",
    "# Get the discrete allocation of each asset\n",
    "cleaned_weights = ef.clean_weights()\n",
    "print(cleaned_weights)\n",
    "\n",
    "# Print the expected annual return, annual volatility and Sharpe ratio\n",
    "ef.portfolio_performance(verbose=True)"
   ],
   "id": "26b2b0cba4485858",
   "outputs": [
    {
     "name": "stdout",
     "output_type": "stream",
     "text": [
      "OrderedDict([('AAPL', 0.17427), ('BRK-B', 0.15143), ('CGL.TO', 0.24949), ('JNJ', 0.0), ('RY.TO', 0.06128), ('TSLA', 0.0), ('V', 0.0), ('WMT', 0.24718), ('XGB.TO', 0.0), ('XUS.TO', 0.11636)])\n",
      "Expected annual return: 24.3%\n",
      "Annual volatility: 14.4%\n",
      "Sharpe Ratio: 1.54\n"
     ]
    },
    {
     "name": "stderr",
     "output_type": "stream",
     "text": [
      "/home/maxzhang/miniconda3/envs/MIE377/lib/python3.11/site-packages/pypfopt/efficient_frontier/efficient_frontier.py:259: UserWarning: max_sharpe transforms the optimization problem so additional objectives may not work as expected.\n",
      "  warnings.warn(\n"
     ]
    },
    {
     "data": {
      "text/plain": [
       "(0.2430639679145541, 0.1444285518528693, 1.5444589387131116)"
      ]
     },
     "execution_count": 23,
     "metadata": {},
     "output_type": "execute_result"
    }
   ],
   "execution_count": 23
  },
  {
   "metadata": {
    "ExecuteTime": {
     "end_time": "2024-08-06T02:42:25.906060Z",
     "start_time": "2024-08-06T02:42:25.897430Z"
    }
   },
   "cell_type": "code",
   "source": [
    "latest_prices = get_latest_prices(prices)\n",
    "da = DiscreteAllocation(weights, latest_prices, total_portfolio_value=100000)\n",
    "allocation, leftover = da.lp_portfolio()\n",
    "print(allocation)"
   ],
   "id": "f2b80fc2e0685956",
   "outputs": [
    {
     "name": "stdout",
     "output_type": "stream",
     "text": [
      "{'AAPL': 79, 'BRK-B': 35, 'CGL.TO': 1286, 'RY.TO': 41, 'WMT': 361, 'XGB.TO': 5, 'XUS.TO': 127}\n"
     ]
    }
   ],
   "execution_count": 26
  },
  {
   "metadata": {
    "ExecuteTime": {
     "end_time": "2024-08-06T02:41:50.825354Z",
     "start_time": "2024-08-06T02:41:50.823364Z"
    }
   },
   "cell_type": "code",
   "source": "",
   "id": "110f16f054896f52",
   "outputs": [],
   "execution_count": 24
  }
 ],
 "metadata": {
  "kernelspec": {
   "display_name": "Python 3",
   "language": "python",
   "name": "python3"
  },
  "language_info": {
   "codemirror_mode": {
    "name": "ipython",
    "version": 2
   },
   "file_extension": ".py",
   "mimetype": "text/x-python",
   "name": "python",
   "nbconvert_exporter": "python",
   "pygments_lexer": "ipython2",
   "version": "2.7.6"
  }
 },
 "nbformat": 4,
 "nbformat_minor": 5
}
